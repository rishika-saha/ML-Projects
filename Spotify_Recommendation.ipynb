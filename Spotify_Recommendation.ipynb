{
  "nbformat": 4,
  "nbformat_minor": 0,
  "metadata": {
    "colab": {
      "name": "Spotify Recommendation",
      "provenance": [],
      "collapsed_sections": [],
      "authorship_tag": "ABX9TyPN8KhtpfNCB4P6EHUEd8KB",
      "include_colab_link": true
    },
    "kernelspec": {
      "name": "python3",
      "display_name": "Python 3"
    },
    "language_info": {
      "name": "python"
    }
  },
  "cells": [
    {
      "cell_type": "markdown",
      "metadata": {
        "id": "view-in-github",
        "colab_type": "text"
      },
      "source": [
        "<a href=\"https://colab.research.google.com/github/rishika-saha/ML-Projects/blob/main/Spotify_Recommendation.ipynb\" target=\"_parent\"><img src=\"https://colab.research.google.com/assets/colab-badge.svg\" alt=\"Open In Colab\"/></a>"
      ]
    },
    {
      "cell_type": "markdown",
      "metadata": {
        "id": "RweMH_QX8TG2"
      },
      "source": [
        "***Importing Dataset Directly from kaggle:https://www.kaggle.com/bricevergnou/spotify-recommendation***"
      ]
    },
    {
      "cell_type": "code",
      "metadata": {
        "id": "k0txc1GMxScq"
      },
      "source": [
        "!pip install kaggle\n",
        "!mkdir ~/.kaggle\n",
        "!cp kaggle.json ~/.kaggle/\n",
        "!chmod 600 ~/.kaggle/kaggle.json\n",
        "!kaggle datasets download bricevergnou/spotify-recommendation"
      ],
      "execution_count": null,
      "outputs": []
    },
    {
      "cell_type": "code",
      "metadata": {
        "colab": {
          "base_uri": "https://localhost:8080/"
        },
        "id": "uV2goDfpyS1P",
        "outputId": "df75d70d-8350-4e7f-8c42-b2d4b9a0431b"
      },
      "source": [
        "!unzip /content/spotify-recommendation.zip"
      ],
      "execution_count": 2,
      "outputs": [
        {
          "output_type": "stream",
          "name": "stdout",
          "text": [
            "Archive:  /content/spotify-recommendation.zip\n",
            "  inflating: data.csv                \n",
            "  inflating: dislike.json            \n",
            "  inflating: good.json               \n",
            "  inflating: no.py                   \n",
            "  inflating: yes.py                  \n"
          ]
        }
      ]
    },
    {
      "cell_type": "markdown",
      "metadata": {
        "id": "0IPTcJwa8don"
      },
      "source": [
        "**Importing Libraries**"
      ]
    },
    {
      "cell_type": "code",
      "metadata": {
        "id": "l4WyepQEyYO0"
      },
      "source": [
        "import numpy as np\n",
        "import pandas as pd\n",
        "import matplotlib.pyplot as plt"
      ],
      "execution_count": 3,
      "outputs": []
    },
    {
      "cell_type": "code",
      "metadata": {
        "id": "K5NG2XQFyemT"
      },
      "source": [
        "dataset = pd.read_csv('/content/data.csv')"
      ],
      "execution_count": 4,
      "outputs": []
    },
    {
      "cell_type": "code",
      "metadata": {
        "colab": {
          "base_uri": "https://localhost:8080/"
        },
        "id": "pgFevZcFykdq",
        "outputId": "1ebbfcd3-b26a-45aa-fde6-2c939dfefb44"
      },
      "source": [
        "dataset.info()"
      ],
      "execution_count": 5,
      "outputs": [
        {
          "output_type": "stream",
          "name": "stdout",
          "text": [
            "<class 'pandas.core.frame.DataFrame'>\n",
            "RangeIndex: 195 entries, 0 to 194\n",
            "Data columns (total 14 columns):\n",
            " #   Column            Non-Null Count  Dtype  \n",
            "---  ------            --------------  -----  \n",
            " 0   danceability      195 non-null    float64\n",
            " 1   energy            195 non-null    float64\n",
            " 2   key               195 non-null    int64  \n",
            " 3   loudness          195 non-null    float64\n",
            " 4   mode              195 non-null    int64  \n",
            " 5   speechiness       195 non-null    float64\n",
            " 6   acousticness      195 non-null    float64\n",
            " 7   instrumentalness  195 non-null    float64\n",
            " 8   liveness          195 non-null    float64\n",
            " 9   valence           195 non-null    float64\n",
            " 10  tempo             195 non-null    float64\n",
            " 11  duration_ms       195 non-null    int64  \n",
            " 12  time_signature    195 non-null    int64  \n",
            " 13  liked             195 non-null    int64  \n",
            "dtypes: float64(9), int64(5)\n",
            "memory usage: 21.5 KB\n"
          ]
        }
      ]
    },
    {
      "cell_type": "code",
      "metadata": {
        "colab": {
          "base_uri": "https://localhost:8080/",
          "height": 224
        },
        "id": "D7TekR_wyoe9",
        "outputId": "10db84f4-f81d-4e8e-e876-dae6ae91e422"
      },
      "source": [
        "dataset.head()"
      ],
      "execution_count": 6,
      "outputs": [
        {
          "output_type": "execute_result",
          "data": {
            "text/html": [
              "<div>\n",
              "<style scoped>\n",
              "    .dataframe tbody tr th:only-of-type {\n",
              "        vertical-align: middle;\n",
              "    }\n",
              "\n",
              "    .dataframe tbody tr th {\n",
              "        vertical-align: top;\n",
              "    }\n",
              "\n",
              "    .dataframe thead th {\n",
              "        text-align: right;\n",
              "    }\n",
              "</style>\n",
              "<table border=\"1\" class=\"dataframe\">\n",
              "  <thead>\n",
              "    <tr style=\"text-align: right;\">\n",
              "      <th></th>\n",
              "      <th>danceability</th>\n",
              "      <th>energy</th>\n",
              "      <th>key</th>\n",
              "      <th>loudness</th>\n",
              "      <th>mode</th>\n",
              "      <th>speechiness</th>\n",
              "      <th>acousticness</th>\n",
              "      <th>instrumentalness</th>\n",
              "      <th>liveness</th>\n",
              "      <th>valence</th>\n",
              "      <th>tempo</th>\n",
              "      <th>duration_ms</th>\n",
              "      <th>time_signature</th>\n",
              "      <th>liked</th>\n",
              "    </tr>\n",
              "  </thead>\n",
              "  <tbody>\n",
              "    <tr>\n",
              "      <th>0</th>\n",
              "      <td>0.803</td>\n",
              "      <td>0.6240</td>\n",
              "      <td>7</td>\n",
              "      <td>-6.764</td>\n",
              "      <td>0</td>\n",
              "      <td>0.0477</td>\n",
              "      <td>0.451</td>\n",
              "      <td>0.000734</td>\n",
              "      <td>0.1000</td>\n",
              "      <td>0.6280</td>\n",
              "      <td>95.968</td>\n",
              "      <td>304524</td>\n",
              "      <td>4</td>\n",
              "      <td>0</td>\n",
              "    </tr>\n",
              "    <tr>\n",
              "      <th>1</th>\n",
              "      <td>0.762</td>\n",
              "      <td>0.7030</td>\n",
              "      <td>10</td>\n",
              "      <td>-7.951</td>\n",
              "      <td>0</td>\n",
              "      <td>0.3060</td>\n",
              "      <td>0.206</td>\n",
              "      <td>0.000000</td>\n",
              "      <td>0.0912</td>\n",
              "      <td>0.5190</td>\n",
              "      <td>151.329</td>\n",
              "      <td>247178</td>\n",
              "      <td>4</td>\n",
              "      <td>1</td>\n",
              "    </tr>\n",
              "    <tr>\n",
              "      <th>2</th>\n",
              "      <td>0.261</td>\n",
              "      <td>0.0149</td>\n",
              "      <td>1</td>\n",
              "      <td>-27.528</td>\n",
              "      <td>1</td>\n",
              "      <td>0.0419</td>\n",
              "      <td>0.992</td>\n",
              "      <td>0.897000</td>\n",
              "      <td>0.1020</td>\n",
              "      <td>0.0382</td>\n",
              "      <td>75.296</td>\n",
              "      <td>286987</td>\n",
              "      <td>4</td>\n",
              "      <td>0</td>\n",
              "    </tr>\n",
              "    <tr>\n",
              "      <th>3</th>\n",
              "      <td>0.722</td>\n",
              "      <td>0.7360</td>\n",
              "      <td>3</td>\n",
              "      <td>-6.994</td>\n",
              "      <td>0</td>\n",
              "      <td>0.0585</td>\n",
              "      <td>0.431</td>\n",
              "      <td>0.000001</td>\n",
              "      <td>0.1230</td>\n",
              "      <td>0.5820</td>\n",
              "      <td>89.860</td>\n",
              "      <td>208920</td>\n",
              "      <td>4</td>\n",
              "      <td>1</td>\n",
              "    </tr>\n",
              "    <tr>\n",
              "      <th>4</th>\n",
              "      <td>0.787</td>\n",
              "      <td>0.5720</td>\n",
              "      <td>1</td>\n",
              "      <td>-7.516</td>\n",
              "      <td>1</td>\n",
              "      <td>0.2220</td>\n",
              "      <td>0.145</td>\n",
              "      <td>0.000000</td>\n",
              "      <td>0.0753</td>\n",
              "      <td>0.6470</td>\n",
              "      <td>155.117</td>\n",
              "      <td>179413</td>\n",
              "      <td>4</td>\n",
              "      <td>1</td>\n",
              "    </tr>\n",
              "  </tbody>\n",
              "</table>\n",
              "</div>"
            ],
            "text/plain": [
              "   danceability  energy  key  ...  duration_ms  time_signature  liked\n",
              "0         0.803  0.6240    7  ...       304524               4      0\n",
              "1         0.762  0.7030   10  ...       247178               4      1\n",
              "2         0.261  0.0149    1  ...       286987               4      0\n",
              "3         0.722  0.7360    3  ...       208920               4      1\n",
              "4         0.787  0.5720    1  ...       179413               4      1\n",
              "\n",
              "[5 rows x 14 columns]"
            ]
          },
          "metadata": {},
          "execution_count": 6
        }
      ]
    },
    {
      "cell_type": "code",
      "metadata": {
        "id": "L6nPs9w20dDf"
      },
      "source": [
        "x = dataset.iloc[:,:-1].values\n",
        "y = dataset.iloc[:,-1].values"
      ],
      "execution_count": 7,
      "outputs": []
    },
    {
      "cell_type": "markdown",
      "metadata": {
        "id": "GbVI64Vv8my6"
      },
      "source": [
        "**Splitting dataset**"
      ]
    },
    {
      "cell_type": "code",
      "metadata": {
        "id": "2eWXATGo1OQu"
      },
      "source": [
        "from sklearn.model_selection import train_test_split\n",
        "x_train, x_test, y_train, y_test = train_test_split(x, y, test_size = 0.15, random_state= 0)"
      ],
      "execution_count": 8,
      "outputs": []
    },
    {
      "cell_type": "markdown",
      "metadata": {
        "id": "2Up-wzNG8rgq"
      },
      "source": [
        "**Data preprocessing**"
      ]
    },
    {
      "cell_type": "code",
      "metadata": {
        "id": "9gGJGK9y1hIH"
      },
      "source": [
        "from sklearn.preprocessing import StandardScaler\n",
        "sc = StandardScaler()\n",
        "x_train = sc.fit_transform(x_train)\n",
        "x_test = sc.transform(x_test)"
      ],
      "execution_count": 9,
      "outputs": []
    },
    {
      "cell_type": "code",
      "metadata": {
        "id": "XBLntQKw2r9O"
      },
      "source": [
        "from sklearn.metrics import accuracy_score"
      ],
      "execution_count": 10,
      "outputs": []
    },
    {
      "cell_type": "markdown",
      "metadata": {
        "id": "WlIgLQx68wNz"
      },
      "source": [
        "**Model-XGBoost**"
      ]
    },
    {
      "cell_type": "code",
      "metadata": {
        "colab": {
          "base_uri": "https://localhost:8080/"
        },
        "id": "V56VEx_n4JNd",
        "outputId": "278ed2ec-21fa-43f9-e894-547e6c0425ba"
      },
      "source": [
        "from xgboost import XGBClassifier\n",
        "classifier = XGBClassifier()\n",
        "classifier.fit(x_train,y_train)"
      ],
      "execution_count": 11,
      "outputs": [
        {
          "output_type": "execute_result",
          "data": {
            "text/plain": [
              "XGBClassifier(base_score=0.5, booster='gbtree', colsample_bylevel=1,\n",
              "              colsample_bynode=1, colsample_bytree=1, gamma=0,\n",
              "              learning_rate=0.1, max_delta_step=0, max_depth=3,\n",
              "              min_child_weight=1, missing=None, n_estimators=100, n_jobs=1,\n",
              "              nthread=None, objective='binary:logistic', random_state=0,\n",
              "              reg_alpha=0, reg_lambda=1, scale_pos_weight=1, seed=None,\n",
              "              silent=None, subsample=1, verbosity=1)"
            ]
          },
          "metadata": {},
          "execution_count": 11
        }
      ]
    },
    {
      "cell_type": "markdown",
      "metadata": {
        "id": "SNVQPuRe81q5"
      },
      "source": [
        "Accuracy"
      ]
    },
    {
      "cell_type": "code",
      "metadata": {
        "colab": {
          "base_uri": "https://localhost:8080/"
        },
        "id": "RADrQnWZ4Zco",
        "outputId": "cf93cf47-6e29-48bd-c1fd-09d48e6285bc"
      },
      "source": [
        "y_pred = classifier.predict(x_test)\n",
        "accuracy_score(y_test,y_pred)"
      ],
      "execution_count": 12,
      "outputs": [
        {
          "output_type": "execute_result",
          "data": {
            "text/plain": [
              "0.9"
            ]
          },
          "metadata": {},
          "execution_count": 12
        }
      ]
    },
    {
      "cell_type": "markdown",
      "metadata": {
        "id": "juYkiVw6829T"
      },
      "source": [
        "Applying k-fold cross validation"
      ]
    },
    {
      "cell_type": "code",
      "metadata": {
        "colab": {
          "base_uri": "https://localhost:8080/"
        },
        "id": "NoGYHsbi4p0H",
        "outputId": "865e723e-63d4-4536-adef-6f5869f42fef"
      },
      "source": [
        "from sklearn.model_selection import cross_val_score\n",
        "accuracies = cross_val_score(estimator = classifier, X= x_train, y= y_train, cv=10)\n",
        "print(\"Accuracy: {:.2f}%\".format(accuracies.mean()*100))"
      ],
      "execution_count": 13,
      "outputs": [
        {
          "output_type": "stream",
          "name": "stdout",
          "text": [
            "Accuracy: 93.31%\n"
          ]
        }
      ]
    },
    {
      "cell_type": "markdown",
      "metadata": {
        "id": "uaF3ckVi8-ht"
      },
      "source": [
        "**Applying Neural Net**"
      ]
    },
    {
      "cell_type": "code",
      "metadata": {
        "id": "6jVbD6Uc6SJG"
      },
      "source": [
        "from keras.models import Sequential\n",
        "from keras.layers import Dense\n",
        "from tensorflow.keras.optimizers import Adam"
      ],
      "execution_count": 14,
      "outputs": []
    },
    {
      "cell_type": "code",
      "metadata": {
        "id": "CNc3opAK6XMj"
      },
      "source": [
        "ann=Sequential()\n",
        "ann.add(Dense(13, activation='relu'))\n",
        "ann.add(Dense(10, activation='relu'))\n",
        "ann.add(Dense(1, activation='sigmoid'))"
      ],
      "execution_count": 15,
      "outputs": []
    },
    {
      "cell_type": "code",
      "metadata": {
        "id": "0W1qvsAT7H3b"
      },
      "source": [
        "from keras.callbacks import EarlyStopping\n",
        "callback=EarlyStopping(monitor='loss', patience=2)"
      ],
      "execution_count": 16,
      "outputs": []
    },
    {
      "cell_type": "code",
      "metadata": {
        "colab": {
          "base_uri": "https://localhost:8080/"
        },
        "id": "XXXuAuDO7JO2",
        "outputId": "839c26a0-c292-4959-a594-2ee458738f7d"
      },
      "source": [
        "ann.compile(optimizer=Adam(learning_rate=0.001), loss='binary_crossentropy', metrics=['accuracy'])\n",
        "ann.fit(x_train, y_train, batch_size=32, epochs=100, callbacks=callback)"
      ],
      "execution_count": 17,
      "outputs": [
        {
          "output_type": "stream",
          "name": "stdout",
          "text": [
            "Epoch 1/100\n",
            "6/6 [==============================] - 1s 3ms/step - loss: 0.7337 - accuracy: 0.4909\n",
            "Epoch 2/100\n",
            "6/6 [==============================] - 0s 2ms/step - loss: 0.7113 - accuracy: 0.5030\n",
            "Epoch 3/100\n",
            "6/6 [==============================] - 0s 2ms/step - loss: 0.6919 - accuracy: 0.5091\n",
            "Epoch 4/100\n",
            "6/6 [==============================] - 0s 2ms/step - loss: 0.6743 - accuracy: 0.5273\n",
            "Epoch 5/100\n",
            "6/6 [==============================] - 0s 3ms/step - loss: 0.6594 - accuracy: 0.5394\n",
            "Epoch 6/100\n",
            "6/6 [==============================] - 0s 2ms/step - loss: 0.6445 - accuracy: 0.5636\n",
            "Epoch 7/100\n",
            "6/6 [==============================] - 0s 3ms/step - loss: 0.6318 - accuracy: 0.5758\n",
            "Epoch 8/100\n",
            "6/6 [==============================] - 0s 2ms/step - loss: 0.6188 - accuracy: 0.6061\n",
            "Epoch 9/100\n",
            "6/6 [==============================] - 0s 3ms/step - loss: 0.6065 - accuracy: 0.6121\n",
            "Epoch 10/100\n",
            "6/6 [==============================] - 0s 2ms/step - loss: 0.5949 - accuracy: 0.6364\n",
            "Epoch 11/100\n",
            "6/6 [==============================] - 0s 2ms/step - loss: 0.5835 - accuracy: 0.6788\n",
            "Epoch 12/100\n",
            "6/6 [==============================] - 0s 2ms/step - loss: 0.5715 - accuracy: 0.7212\n",
            "Epoch 13/100\n",
            "6/6 [==============================] - 0s 2ms/step - loss: 0.5599 - accuracy: 0.7515\n",
            "Epoch 14/100\n",
            "6/6 [==============================] - 0s 2ms/step - loss: 0.5478 - accuracy: 0.7455\n",
            "Epoch 15/100\n",
            "6/6 [==============================] - 0s 2ms/step - loss: 0.5366 - accuracy: 0.7576\n",
            "Epoch 16/100\n",
            "6/6 [==============================] - 0s 2ms/step - loss: 0.5251 - accuracy: 0.7515\n",
            "Epoch 17/100\n",
            "6/6 [==============================] - 0s 2ms/step - loss: 0.5140 - accuracy: 0.7636\n",
            "Epoch 18/100\n",
            "6/6 [==============================] - 0s 2ms/step - loss: 0.5020 - accuracy: 0.7758\n",
            "Epoch 19/100\n",
            "6/6 [==============================] - 0s 2ms/step - loss: 0.4904 - accuracy: 0.7939\n",
            "Epoch 20/100\n",
            "6/6 [==============================] - 0s 2ms/step - loss: 0.4787 - accuracy: 0.8121\n",
            "Epoch 21/100\n",
            "6/6 [==============================] - 0s 2ms/step - loss: 0.4667 - accuracy: 0.8121\n",
            "Epoch 22/100\n",
            "6/6 [==============================] - 0s 4ms/step - loss: 0.4550 - accuracy: 0.8121\n",
            "Epoch 23/100\n",
            "6/6 [==============================] - 0s 2ms/step - loss: 0.4441 - accuracy: 0.8121\n",
            "Epoch 24/100\n",
            "6/6 [==============================] - 0s 3ms/step - loss: 0.4324 - accuracy: 0.8182\n",
            "Epoch 25/100\n",
            "6/6 [==============================] - 0s 2ms/step - loss: 0.4215 - accuracy: 0.8182\n",
            "Epoch 26/100\n",
            "6/6 [==============================] - 0s 2ms/step - loss: 0.4098 - accuracy: 0.8242\n",
            "Epoch 27/100\n",
            "6/6 [==============================] - 0s 3ms/step - loss: 0.3988 - accuracy: 0.8364\n",
            "Epoch 28/100\n",
            "6/6 [==============================] - 0s 3ms/step - loss: 0.3885 - accuracy: 0.8364\n",
            "Epoch 29/100\n",
            "6/6 [==============================] - 0s 3ms/step - loss: 0.3782 - accuracy: 0.8364\n",
            "Epoch 30/100\n",
            "6/6 [==============================] - 0s 2ms/step - loss: 0.3683 - accuracy: 0.8485\n",
            "Epoch 31/100\n",
            "6/6 [==============================] - 0s 3ms/step - loss: 0.3594 - accuracy: 0.8485\n",
            "Epoch 32/100\n",
            "6/6 [==============================] - 0s 3ms/step - loss: 0.3492 - accuracy: 0.8485\n",
            "Epoch 33/100\n",
            "6/6 [==============================] - 0s 2ms/step - loss: 0.3403 - accuracy: 0.8606\n",
            "Epoch 34/100\n",
            "6/6 [==============================] - 0s 2ms/step - loss: 0.3315 - accuracy: 0.8667\n",
            "Epoch 35/100\n",
            "6/6 [==============================] - 0s 2ms/step - loss: 0.3226 - accuracy: 0.8788\n",
            "Epoch 36/100\n",
            "6/6 [==============================] - 0s 2ms/step - loss: 0.3146 - accuracy: 0.8788\n",
            "Epoch 37/100\n",
            "6/6 [==============================] - 0s 4ms/step - loss: 0.3065 - accuracy: 0.8848\n",
            "Epoch 38/100\n",
            "6/6 [==============================] - 0s 3ms/step - loss: 0.2985 - accuracy: 0.8909\n",
            "Epoch 39/100\n",
            "6/6 [==============================] - 0s 2ms/step - loss: 0.2912 - accuracy: 0.8909\n",
            "Epoch 40/100\n",
            "6/6 [==============================] - 0s 2ms/step - loss: 0.2841 - accuracy: 0.9091\n",
            "Epoch 41/100\n",
            "6/6 [==============================] - 0s 2ms/step - loss: 0.2770 - accuracy: 0.9212\n",
            "Epoch 42/100\n",
            "6/6 [==============================] - 0s 4ms/step - loss: 0.2705 - accuracy: 0.9212\n",
            "Epoch 43/100\n",
            "6/6 [==============================] - 0s 3ms/step - loss: 0.2639 - accuracy: 0.9273\n",
            "Epoch 44/100\n",
            "6/6 [==============================] - 0s 2ms/step - loss: 0.2575 - accuracy: 0.9273\n",
            "Epoch 45/100\n",
            "6/6 [==============================] - 0s 2ms/step - loss: 0.2520 - accuracy: 0.9273\n",
            "Epoch 46/100\n",
            "6/6 [==============================] - 0s 3ms/step - loss: 0.2462 - accuracy: 0.9273\n",
            "Epoch 47/100\n",
            "6/6 [==============================] - 0s 2ms/step - loss: 0.2408 - accuracy: 0.9273\n",
            "Epoch 48/100\n",
            "6/6 [==============================] - 0s 2ms/step - loss: 0.2348 - accuracy: 0.9333\n",
            "Epoch 49/100\n",
            "6/6 [==============================] - 0s 2ms/step - loss: 0.2299 - accuracy: 0.9333\n",
            "Epoch 50/100\n",
            "6/6 [==============================] - 0s 2ms/step - loss: 0.2247 - accuracy: 0.9333\n",
            "Epoch 51/100\n",
            "6/6 [==============================] - 0s 2ms/step - loss: 0.2203 - accuracy: 0.9333\n",
            "Epoch 52/100\n",
            "6/6 [==============================] - 0s 2ms/step - loss: 0.2156 - accuracy: 0.9394\n",
            "Epoch 53/100\n",
            "6/6 [==============================] - 0s 2ms/step - loss: 0.2113 - accuracy: 0.9455\n",
            "Epoch 54/100\n",
            "6/6 [==============================] - 0s 3ms/step - loss: 0.2072 - accuracy: 0.9455\n",
            "Epoch 55/100\n",
            "6/6 [==============================] - 0s 3ms/step - loss: 0.2032 - accuracy: 0.9455\n",
            "Epoch 56/100\n",
            "6/6 [==============================] - 0s 4ms/step - loss: 0.1993 - accuracy: 0.9455\n",
            "Epoch 57/100\n",
            "6/6 [==============================] - 0s 3ms/step - loss: 0.1955 - accuracy: 0.9455\n",
            "Epoch 58/100\n",
            "6/6 [==============================] - 0s 2ms/step - loss: 0.1919 - accuracy: 0.9455\n",
            "Epoch 59/100\n",
            "6/6 [==============================] - 0s 3ms/step - loss: 0.1887 - accuracy: 0.9455\n",
            "Epoch 60/100\n",
            "6/6 [==============================] - 0s 2ms/step - loss: 0.1859 - accuracy: 0.9455\n",
            "Epoch 61/100\n",
            "6/6 [==============================] - 0s 2ms/step - loss: 0.1831 - accuracy: 0.9455\n",
            "Epoch 62/100\n",
            "6/6 [==============================] - 0s 2ms/step - loss: 0.1805 - accuracy: 0.9515\n",
            "Epoch 63/100\n",
            "6/6 [==============================] - 0s 3ms/step - loss: 0.1782 - accuracy: 0.9455\n",
            "Epoch 64/100\n",
            "6/6 [==============================] - 0s 2ms/step - loss: 0.1755 - accuracy: 0.9455\n",
            "Epoch 65/100\n",
            "6/6 [==============================] - 0s 3ms/step - loss: 0.1731 - accuracy: 0.9515\n",
            "Epoch 66/100\n",
            "6/6 [==============================] - 0s 3ms/step - loss: 0.1707 - accuracy: 0.9515\n",
            "Epoch 67/100\n",
            "6/6 [==============================] - 0s 2ms/step - loss: 0.1684 - accuracy: 0.9515\n",
            "Epoch 68/100\n",
            "6/6 [==============================] - 0s 2ms/step - loss: 0.1657 - accuracy: 0.9515\n",
            "Epoch 69/100\n",
            "6/6 [==============================] - 0s 3ms/step - loss: 0.1634 - accuracy: 0.9515\n",
            "Epoch 70/100\n",
            "6/6 [==============================] - 0s 2ms/step - loss: 0.1605 - accuracy: 0.9515\n",
            "Epoch 71/100\n",
            "6/6 [==============================] - 0s 2ms/step - loss: 0.1584 - accuracy: 0.9515\n",
            "Epoch 72/100\n",
            "6/6 [==============================] - 0s 3ms/step - loss: 0.1565 - accuracy: 0.9515\n",
            "Epoch 73/100\n",
            "6/6 [==============================] - 0s 2ms/step - loss: 0.1546 - accuracy: 0.9515\n",
            "Epoch 74/100\n",
            "6/6 [==============================] - 0s 2ms/step - loss: 0.1522 - accuracy: 0.9576\n",
            "Epoch 75/100\n",
            "6/6 [==============================] - 0s 3ms/step - loss: 0.1503 - accuracy: 0.9636\n",
            "Epoch 76/100\n",
            "6/6 [==============================] - 0s 2ms/step - loss: 0.1485 - accuracy: 0.9636\n",
            "Epoch 77/100\n",
            "6/6 [==============================] - 0s 2ms/step - loss: 0.1460 - accuracy: 0.9636\n",
            "Epoch 78/100\n",
            "6/6 [==============================] - 0s 3ms/step - loss: 0.1443 - accuracy: 0.9636\n",
            "Epoch 79/100\n",
            "6/6 [==============================] - 0s 3ms/step - loss: 0.1423 - accuracy: 0.9636\n",
            "Epoch 80/100\n",
            "6/6 [==============================] - 0s 3ms/step - loss: 0.1404 - accuracy: 0.9636\n",
            "Epoch 81/100\n",
            "6/6 [==============================] - 0s 2ms/step - loss: 0.1386 - accuracy: 0.9636\n",
            "Epoch 82/100\n",
            "6/6 [==============================] - 0s 2ms/step - loss: 0.1371 - accuracy: 0.9576\n",
            "Epoch 83/100\n",
            "6/6 [==============================] - 0s 3ms/step - loss: 0.1353 - accuracy: 0.9576\n",
            "Epoch 84/100\n",
            "6/6 [==============================] - 0s 2ms/step - loss: 0.1338 - accuracy: 0.9576\n",
            "Epoch 85/100\n",
            "6/6 [==============================] - 0s 2ms/step - loss: 0.1319 - accuracy: 0.9576\n",
            "Epoch 86/100\n",
            "6/6 [==============================] - 0s 2ms/step - loss: 0.1302 - accuracy: 0.9636\n",
            "Epoch 87/100\n",
            "6/6 [==============================] - 0s 2ms/step - loss: 0.1284 - accuracy: 0.9636\n",
            "Epoch 88/100\n",
            "6/6 [==============================] - 0s 2ms/step - loss: 0.1267 - accuracy: 0.9636\n",
            "Epoch 89/100\n",
            "6/6 [==============================] - 0s 2ms/step - loss: 0.1251 - accuracy: 0.9636\n",
            "Epoch 90/100\n",
            "6/6 [==============================] - 0s 2ms/step - loss: 0.1238 - accuracy: 0.9636\n",
            "Epoch 91/100\n",
            "6/6 [==============================] - 0s 2ms/step - loss: 0.1224 - accuracy: 0.9636\n",
            "Epoch 92/100\n",
            "6/6 [==============================] - 0s 3ms/step - loss: 0.1210 - accuracy: 0.9636\n",
            "Epoch 93/100\n",
            "6/6 [==============================] - 0s 2ms/step - loss: 0.1194 - accuracy: 0.9697\n",
            "Epoch 94/100\n",
            "6/6 [==============================] - 0s 2ms/step - loss: 0.1179 - accuracy: 0.9697\n",
            "Epoch 95/100\n",
            "6/6 [==============================] - 0s 3ms/step - loss: 0.1162 - accuracy: 0.9697\n",
            "Epoch 96/100\n",
            "6/6 [==============================] - 0s 3ms/step - loss: 0.1149 - accuracy: 0.9697\n",
            "Epoch 97/100\n",
            "6/6 [==============================] - 0s 3ms/step - loss: 0.1133 - accuracy: 0.9697\n",
            "Epoch 98/100\n",
            "6/6 [==============================] - 0s 2ms/step - loss: 0.1122 - accuracy: 0.9697\n",
            "Epoch 99/100\n",
            "6/6 [==============================] - 0s 3ms/step - loss: 0.1111 - accuracy: 0.9697\n",
            "Epoch 100/100\n",
            "6/6 [==============================] - 0s 2ms/step - loss: 0.1099 - accuracy: 0.9697\n"
          ]
        },
        {
          "output_type": "execute_result",
          "data": {
            "text/plain": [
              "<keras.callbacks.History at 0x7fefff488e90>"
            ]
          },
          "metadata": {},
          "execution_count": 17
        }
      ]
    },
    {
      "cell_type": "markdown",
      "metadata": {
        "id": "1TgCesys9LD_"
      },
      "source": [
        "We see that on applying Neural Net we get an accuracy of 96.97% ."
      ]
    }
  ]
}
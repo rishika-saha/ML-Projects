{
  "nbformat": 4,
  "nbformat_minor": 0,
  "metadata": {
    "colab": {
      "name": "Xbox_Dataset",
      "provenance": []
    },
    "kernelspec": {
      "name": "python3",
      "display_name": "Python 3"
    },
    "language_info": {
      "name": "python"
    }
  },
  "cells": [
    {
      "cell_type": "markdown",
      "metadata": {
        "id": "Js2eQ23ELTQW"
      },
      "source": [
        "**Importing dataset directly from kaggle** "
      ]
    },
    {
      "cell_type": "code",
      "metadata": {
        "id": "SgS64xI_YW-O",
        "colab": {
          "base_uri": "https://localhost:8080/"
        },
        "outputId": "b7dc1d81-bdf5-4f42-c7e8-c155fd07c126"
      },
      "source": [
        "!pip install kaggle"
      ],
      "execution_count": 1,
      "outputs": [
        {
          "output_type": "stream",
          "name": "stdout",
          "text": [
            "Requirement already satisfied: kaggle in /usr/local/lib/python3.7/dist-packages (1.5.12)\n",
            "Requirement already satisfied: urllib3 in /usr/local/lib/python3.7/dist-packages (from kaggle) (1.24.3)\n",
            "Requirement already satisfied: certifi in /usr/local/lib/python3.7/dist-packages (from kaggle) (2021.5.30)\n",
            "Requirement already satisfied: six>=1.10 in /usr/local/lib/python3.7/dist-packages (from kaggle) (1.15.0)\n",
            "Requirement already satisfied: python-dateutil in /usr/local/lib/python3.7/dist-packages (from kaggle) (2.8.2)\n",
            "Requirement already satisfied: requests in /usr/local/lib/python3.7/dist-packages (from kaggle) (2.23.0)\n",
            "Requirement already satisfied: tqdm in /usr/local/lib/python3.7/dist-packages (from kaggle) (4.62.0)\n",
            "Requirement already satisfied: python-slugify in /usr/local/lib/python3.7/dist-packages (from kaggle) (5.0.2)\n",
            "Requirement already satisfied: text-unidecode>=1.3 in /usr/local/lib/python3.7/dist-packages (from python-slugify->kaggle) (1.3)\n",
            "Requirement already satisfied: idna<3,>=2.5 in /usr/local/lib/python3.7/dist-packages (from requests->kaggle) (2.10)\n",
            "Requirement already satisfied: chardet<4,>=3.0.2 in /usr/local/lib/python3.7/dist-packages (from requests->kaggle) (3.0.4)\n"
          ]
        }
      ]
    },
    {
      "cell_type": "code",
      "metadata": {
        "id": "BKLRlzLSZYYD"
      },
      "source": [
        "!mkdir ~/.kaggle"
      ],
      "execution_count": 2,
      "outputs": []
    },
    {
      "cell_type": "code",
      "metadata": {
        "id": "HKadcLM2ZkG1"
      },
      "source": [
        "!cp kaggle.json ~/.kaggle/"
      ],
      "execution_count": 3,
      "outputs": []
    },
    {
      "cell_type": "code",
      "metadata": {
        "id": "y3NJMT4rZp6X"
      },
      "source": [
        "!chmod 600 ~/.kaggle/kaggle.json"
      ],
      "execution_count": 4,
      "outputs": []
    },
    {
      "cell_type": "code",
      "metadata": {
        "id": "Ak_7HxhTZw0Q",
        "colab": {
          "base_uri": "https://localhost:8080/"
        },
        "outputId": "ffd44114-3fdb-40fa-d621-548ce76bd77e"
      },
      "source": [
        "!kaggle competitions download -c acm-sf-chapter-hackathon-small"
      ],
      "execution_count": 5,
      "outputs": [
        {
          "output_type": "stream",
          "name": "stdout",
          "text": [
            "Warning: Looks like you're using an outdated API Version, please consider updating (server 1.5.12 / client 1.5.4)\n",
            "Downloading test.csv.zip to /content\n",
            "  0% 0.00/1.19M [00:00<?, ?B/s]\n",
            "100% 1.19M/1.19M [00:00<00:00, 39.9MB/s]\n",
            "Downloading train.csv.zip to /content\n",
            "  0% 0.00/1.82M [00:00<?, ?B/s]\n",
            "100% 1.82M/1.82M [00:00<00:00, 118MB/s]\n",
            "Downloading popular_skus.csv.zip to /content\n",
            "  0% 0.00/3.51k [00:00<?, ?B/s]\n",
            "100% 3.51k/3.51k [00:00<00:00, 7.69MB/s]\n",
            "Downloading small_product_data.xml.zip to /content\n",
            "  0% 0.00/1.10M [00:00<?, ?B/s]\n",
            "100% 1.10M/1.10M [00:00<00:00, 148MB/s]\n",
            "Downloading popular_skus.py to /content\n",
            "  0% 0.00/1.62k [00:00<?, ?B/s]\n",
            "100% 1.62k/1.62k [00:00<00:00, 1.69MB/s]\n"
          ]
        }
      ]
    },
    {
      "cell_type": "code",
      "metadata": {
        "id": "9k-Mrf9ybmve",
        "colab": {
          "base_uri": "https://localhost:8080/"
        },
        "outputId": "fb289b6e-fc1e-46bb-f3a2-09d8435b8e63"
      },
      "source": [
        "!unzip /content/train.csv.zip"
      ],
      "execution_count": 6,
      "outputs": [
        {
          "output_type": "stream",
          "name": "stdout",
          "text": [
            "Archive:  /content/train.csv.zip\n",
            "  inflating: train.csv               \n"
          ]
        }
      ]
    },
    {
      "cell_type": "code",
      "metadata": {
        "id": "61qLwq1TbuLd",
        "colab": {
          "base_uri": "https://localhost:8080/"
        },
        "outputId": "3403621d-dacb-4af9-c3ce-5c52f9314884"
      },
      "source": [
        "!unzip /content/test.csv.zip"
      ],
      "execution_count": 7,
      "outputs": [
        {
          "output_type": "stream",
          "name": "stdout",
          "text": [
            "Archive:  /content/test.csv.zip\n",
            "  inflating: test.csv                \n"
          ]
        }
      ]
    },
    {
      "cell_type": "markdown",
      "metadata": {
        "id": "hFLLttnWLe3h"
      },
      "source": [
        "**Importing Libraries**"
      ]
    },
    {
      "cell_type": "code",
      "metadata": {
        "id": "zmsdUoK6b3_V"
      },
      "source": [
        "import numpy as np\n",
        "import pandas as pd\n",
        "import matplotlib.pyplot as plt"
      ],
      "execution_count": 8,
      "outputs": []
    },
    {
      "cell_type": "code",
      "metadata": {
        "id": "-34e743acWDn"
      },
      "source": [
        "dataset = pd.read_csv('train.csv')\n",
        "validation_data = pd.read_csv('test.csv')"
      ],
      "execution_count": 9,
      "outputs": []
    },
    {
      "cell_type": "code",
      "metadata": {
        "colab": {
          "base_uri": "https://localhost:8080/",
          "height": 241
        },
        "id": "6ywwiXm5csFV",
        "outputId": "62803c71-6d9b-4093-ff86-b4fceb30776b"
      },
      "source": [
        "dataset.head(4)"
      ],
      "execution_count": 10,
      "outputs": [
        {
          "output_type": "execute_result",
          "data": {
            "text/html": [
              "<div>\n",
              "<style scoped>\n",
              "    .dataframe tbody tr th:only-of-type {\n",
              "        vertical-align: middle;\n",
              "    }\n",
              "\n",
              "    .dataframe tbody tr th {\n",
              "        vertical-align: top;\n",
              "    }\n",
              "\n",
              "    .dataframe thead th {\n",
              "        text-align: right;\n",
              "    }\n",
              "</style>\n",
              "<table border=\"1\" class=\"dataframe\">\n",
              "  <thead>\n",
              "    <tr style=\"text-align: right;\">\n",
              "      <th></th>\n",
              "      <th>user</th>\n",
              "      <th>sku</th>\n",
              "      <th>category</th>\n",
              "      <th>query</th>\n",
              "      <th>click_time</th>\n",
              "      <th>query_time</th>\n",
              "    </tr>\n",
              "  </thead>\n",
              "  <tbody>\n",
              "    <tr>\n",
              "      <th>0</th>\n",
              "      <td>0001cd0d10bbc585c9ba287c963e00873d4c0bfd</td>\n",
              "      <td>2032076</td>\n",
              "      <td>abcat0701002</td>\n",
              "      <td>gears of war</td>\n",
              "      <td>2011-10-09 17:22:56.101</td>\n",
              "      <td>2011-10-09 17:21:42.917</td>\n",
              "    </tr>\n",
              "    <tr>\n",
              "      <th>1</th>\n",
              "      <td>00033dbced6acd3626c4b56ff5c55b8d69911681</td>\n",
              "      <td>9854804</td>\n",
              "      <td>abcat0701002</td>\n",
              "      <td>Gears of war</td>\n",
              "      <td>2011-09-25 13:35:42.198</td>\n",
              "      <td>2011-09-25 13:35:33.234</td>\n",
              "    </tr>\n",
              "    <tr>\n",
              "      <th>2</th>\n",
              "      <td>00033dbced6acd3626c4b56ff5c55b8d69911681</td>\n",
              "      <td>2670133</td>\n",
              "      <td>abcat0701002</td>\n",
              "      <td>Gears of war</td>\n",
              "      <td>2011-09-25 13:36:08.668</td>\n",
              "      <td>2011-09-25 13:35:33.234</td>\n",
              "    </tr>\n",
              "    <tr>\n",
              "      <th>3</th>\n",
              "      <td>00033dbced6acd3626c4b56ff5c55b8d69911681</td>\n",
              "      <td>9984142</td>\n",
              "      <td>abcat0701002</td>\n",
              "      <td>Assassin creed</td>\n",
              "      <td>2011-09-25 13:37:23.709</td>\n",
              "      <td>2011-09-25 13:37:00.049</td>\n",
              "    </tr>\n",
              "  </tbody>\n",
              "</table>\n",
              "</div>"
            ],
            "text/plain": [
              "                                       user  ...               query_time\n",
              "0  0001cd0d10bbc585c9ba287c963e00873d4c0bfd  ...  2011-10-09 17:21:42.917\n",
              "1  00033dbced6acd3626c4b56ff5c55b8d69911681  ...  2011-09-25 13:35:33.234\n",
              "2  00033dbced6acd3626c4b56ff5c55b8d69911681  ...  2011-09-25 13:35:33.234\n",
              "3  00033dbced6acd3626c4b56ff5c55b8d69911681  ...  2011-09-25 13:37:00.049\n",
              "\n",
              "[4 rows x 6 columns]"
            ]
          },
          "metadata": {},
          "execution_count": 10
        }
      ]
    },
    {
      "cell_type": "code",
      "metadata": {
        "colab": {
          "base_uri": "https://localhost:8080/"
        },
        "id": "KhCUmyhpVBrw",
        "outputId": "fef88786-9b9b-41c4-a283-99ad2235faad"
      },
      "source": [
        "dataset.info()"
      ],
      "execution_count": 11,
      "outputs": [
        {
          "output_type": "stream",
          "name": "stdout",
          "text": [
            "<class 'pandas.core.frame.DataFrame'>\n",
            "RangeIndex: 42365 entries, 0 to 42364\n",
            "Data columns (total 6 columns):\n",
            " #   Column      Non-Null Count  Dtype \n",
            "---  ------      --------------  ----- \n",
            " 0   user        42365 non-null  object\n",
            " 1   sku         42365 non-null  int64 \n",
            " 2   category    42365 non-null  object\n",
            " 3   query       42365 non-null  object\n",
            " 4   click_time  42365 non-null  object\n",
            " 5   query_time  42365 non-null  object\n",
            "dtypes: int64(1), object(5)\n",
            "memory usage: 1.9+ MB\n"
          ]
        }
      ]
    },
    {
      "cell_type": "code",
      "metadata": {
        "colab": {
          "base_uri": "https://localhost:8080/",
          "height": 173
        },
        "id": "BctftprX2bX-",
        "outputId": "6d45707c-86ee-4d0b-b392-a6719f16536f"
      },
      "source": [
        "validation_data.head(4)"
      ],
      "execution_count": 12,
      "outputs": [
        {
          "output_type": "execute_result",
          "data": {
            "text/html": [
              "<div>\n",
              "<style scoped>\n",
              "    .dataframe tbody tr th:only-of-type {\n",
              "        vertical-align: middle;\n",
              "    }\n",
              "\n",
              "    .dataframe tbody tr th {\n",
              "        vertical-align: top;\n",
              "    }\n",
              "\n",
              "    .dataframe thead th {\n",
              "        text-align: right;\n",
              "    }\n",
              "</style>\n",
              "<table border=\"1\" class=\"dataframe\">\n",
              "  <thead>\n",
              "    <tr style=\"text-align: right;\">\n",
              "      <th></th>\n",
              "      <th>user</th>\n",
              "      <th>category</th>\n",
              "      <th>query</th>\n",
              "      <th>click_time</th>\n",
              "      <th>query_time</th>\n",
              "    </tr>\n",
              "  </thead>\n",
              "  <tbody>\n",
              "    <tr>\n",
              "      <th>0</th>\n",
              "      <td>00025eb02b249434554fe2cacd8562db325df127</td>\n",
              "      <td>abcat0701002</td>\n",
              "      <td>child eden</td>\n",
              "      <td>2011-09-02 13:05:24.146</td>\n",
              "      <td>2011-09-02 13:04:34.633</td>\n",
              "    </tr>\n",
              "    <tr>\n",
              "      <th>1</th>\n",
              "      <td>00033dbced6acd3626c4b56ff5c55b8d69911681</td>\n",
              "      <td>abcat0701002</td>\n",
              "      <td>Revelations</td>\n",
              "      <td>2011-09-25 13:38:14.74</td>\n",
              "      <td>2011-09-25 13:37:58.382</td>\n",
              "    </tr>\n",
              "    <tr>\n",
              "      <th>2</th>\n",
              "      <td>000548d17532b70071b7d59edd4797aed1823c60</td>\n",
              "      <td>abcat0701002</td>\n",
              "      <td>Gears of war</td>\n",
              "      <td>2011-09-16 17:34:43.596</td>\n",
              "      <td>2011-09-16 17:33:43.237</td>\n",
              "    </tr>\n",
              "    <tr>\n",
              "      <th>3</th>\n",
              "      <td>0006f15231a422156a9d005735d0969a5e5a0ac4</td>\n",
              "      <td>abcat0701002</td>\n",
              "      <td>batman</td>\n",
              "      <td>2011-10-09 11:14:48.352</td>\n",
              "      <td>2011-10-09 11:14:33.692</td>\n",
              "    </tr>\n",
              "  </tbody>\n",
              "</table>\n",
              "</div>"
            ],
            "text/plain": [
              "                                       user  ...               query_time\n",
              "0  00025eb02b249434554fe2cacd8562db325df127  ...  2011-09-02 13:04:34.633\n",
              "1  00033dbced6acd3626c4b56ff5c55b8d69911681  ...  2011-09-25 13:37:58.382\n",
              "2  000548d17532b70071b7d59edd4797aed1823c60  ...  2011-09-16 17:33:43.237\n",
              "3  0006f15231a422156a9d005735d0969a5e5a0ac4  ...  2011-10-09 11:14:33.692\n",
              "\n",
              "[4 rows x 5 columns]"
            ]
          },
          "metadata": {},
          "execution_count": 12
        }
      ]
    },
    {
      "cell_type": "code",
      "metadata": {
        "colab": {
          "base_uri": "https://localhost:8080/"
        },
        "id": "a-w8IHp26zoz",
        "outputId": "e6104f6b-6e8d-4436-9667-c2d7dccfd63b"
      },
      "source": [
        "validation_data.info()"
      ],
      "execution_count": 13,
      "outputs": [
        {
          "output_type": "stream",
          "name": "stdout",
          "text": [
            "<class 'pandas.core.frame.DataFrame'>\n",
            "RangeIndex: 28241 entries, 0 to 28240\n",
            "Data columns (total 5 columns):\n",
            " #   Column      Non-Null Count  Dtype \n",
            "---  ------      --------------  ----- \n",
            " 0   user        28241 non-null  object\n",
            " 1   category    28241 non-null  object\n",
            " 2   query       28241 non-null  object\n",
            " 3   click_time  28241 non-null  object\n",
            " 4   query_time  28241 non-null  object\n",
            "dtypes: object(5)\n",
            "memory usage: 1.1+ MB\n"
          ]
        }
      ]
    },
    {
      "cell_type": "code",
      "metadata": {
        "colab": {
          "base_uri": "https://localhost:8080/"
        },
        "id": "tSfFKtTR8IN9",
        "outputId": "ca3c5265-afce-4f2f-8761-220e70d3a056"
      },
      "source": [
        "from sklearn.preprocessing import LabelEncoder\n",
        "le = LabelEncoder()\n",
        "dataset.iloc[:,3:4]= le.fit_transform(dataset.iloc[:,3:4])"
      ],
      "execution_count": 14,
      "outputs": [
        {
          "output_type": "stream",
          "name": "stderr",
          "text": [
            "/usr/local/lib/python3.7/dist-packages/sklearn/preprocessing/_label.py:251: DataConversionWarning: A column-vector y was passed when a 1d array was expected. Please change the shape of y to (n_samples, ), for example using ravel().\n",
            "  y = column_or_1d(y, warn=True)\n"
          ]
        }
      ]
    },
    {
      "cell_type": "code",
      "metadata": {
        "id": "UEZrKw4cdEUr"
      },
      "source": [
        "x = dataset.iloc[:,3:4].values\n",
        "y = dataset.iloc[:,1].values"
      ],
      "execution_count": 15,
      "outputs": []
    },
    {
      "cell_type": "code",
      "metadata": {
        "colab": {
          "base_uri": "https://localhost:8080/"
        },
        "id": "OsjhMmXjAO1I",
        "outputId": "ed36ae34-8981-41b9-d33e-3a303c094d0c"
      },
      "source": [
        "print(x)"
      ],
      "execution_count": 16,
      "outputs": [
        {
          "output_type": "stream",
          "name": "stdout",
          "text": [
            "[[4446]\n",
            " [1419]\n",
            " [1419]\n",
            " ...\n",
            " [ 256]\n",
            " [  67]\n",
            " [1904]]\n"
          ]
        }
      ]
    },
    {
      "cell_type": "code",
      "metadata": {
        "colab": {
          "base_uri": "https://localhost:8080/"
        },
        "id": "5rPKnfNEBdek",
        "outputId": "77a871f7-1f52-4958-e761-7efbf1f3b6d0"
      },
      "source": [
        "print(y)"
      ],
      "execution_count": 17,
      "outputs": [
        {
          "output_type": "stream",
          "name": "stdout",
          "text": [
            "[2032076 9854804 2670133 ... 3046603 2340293 2953607]\n"
          ]
        }
      ]
    },
    {
      "cell_type": "markdown",
      "metadata": {
        "id": "MqP8E-sPLmMz"
      },
      "source": [
        "**Splitting the dataset**"
      ]
    },
    {
      "cell_type": "code",
      "metadata": {
        "id": "Cd3NlqPv3DXr"
      },
      "source": [
        "from sklearn.model_selection import train_test_split\n",
        "x_train,x_test,y_train,y_test= train_test_split(x,y,test_size=0.25,random_state=0)"
      ],
      "execution_count": 18,
      "outputs": []
    },
    {
      "cell_type": "markdown",
      "metadata": {
        "id": "IxiD1ufYLtAB"
      },
      "source": [
        "***Decision Tree Classifier***"
      ]
    },
    {
      "cell_type": "code",
      "metadata": {
        "colab": {
          "base_uri": "https://localhost:8080/"
        },
        "id": "E8HPCzXr7-m5",
        "outputId": "04e760e5-3dba-4e34-853c-ba0510caf9c9"
      },
      "source": [
        "from sklearn.tree import DecisionTreeClassifier\n",
        "classifier1 = DecisionTreeClassifier(criterion = 'entropy',random_state=0)\n",
        "classifier1.fit(x_train,y_train)"
      ],
      "execution_count": 19,
      "outputs": [
        {
          "output_type": "execute_result",
          "data": {
            "text/plain": [
              "DecisionTreeClassifier(ccp_alpha=0.0, class_weight=None, criterion='entropy',\n",
              "                       max_depth=None, max_features=None, max_leaf_nodes=None,\n",
              "                       min_impurity_decrease=0.0, min_impurity_split=None,\n",
              "                       min_samples_leaf=1, min_samples_split=2,\n",
              "                       min_weight_fraction_leaf=0.0, presort='deprecated',\n",
              "                       random_state=0, splitter='best')"
            ]
          },
          "metadata": {},
          "execution_count": 19
        }
      ]
    },
    {
      "cell_type": "code",
      "metadata": {
        "colab": {
          "base_uri": "https://localhost:8080/"
        },
        "id": "OcnGFAr78kgJ",
        "outputId": "a44c784a-946a-4458-bf48-6e4874712cf3"
      },
      "source": [
        "from sklearn.metrics import accuracy_score\n",
        "y_pred1 = classifier1.predict(x_test)\n",
        "accuracy_score(y_test,y_pred1)"
      ],
      "execution_count": 20,
      "outputs": [
        {
          "output_type": "execute_result",
          "data": {
            "text/plain": [
              "0.6203738670694864"
            ]
          },
          "metadata": {},
          "execution_count": 20
        }
      ]
    },
    {
      "cell_type": "markdown",
      "metadata": {
        "id": "rQxJ0l-4L5Hd"
      },
      "source": [
        "***Random Forest Classifier***"
      ]
    },
    {
      "cell_type": "code",
      "metadata": {
        "id": "_7w7Jht1BNQZ",
        "colab": {
          "base_uri": "https://localhost:8080/"
        },
        "outputId": "17167379-da14-40e6-9146-737b0308f4ee"
      },
      "source": [
        "from sklearn.ensemble import RandomForestClassifier\n",
        "classifier2 = RandomForestClassifier(n_estimators= 100, criterion = 'entropy', random_state=0)\n",
        "classifier2.fit(x_train,y_train)"
      ],
      "execution_count": 21,
      "outputs": [
        {
          "output_type": "execute_result",
          "data": {
            "text/plain": [
              "RandomForestClassifier(bootstrap=True, ccp_alpha=0.0, class_weight=None,\n",
              "                       criterion='entropy', max_depth=None, max_features='auto',\n",
              "                       max_leaf_nodes=None, max_samples=None,\n",
              "                       min_impurity_decrease=0.0, min_impurity_split=None,\n",
              "                       min_samples_leaf=1, min_samples_split=2,\n",
              "                       min_weight_fraction_leaf=0.0, n_estimators=100,\n",
              "                       n_jobs=None, oob_score=False, random_state=0, verbose=0,\n",
              "                       warm_start=False)"
            ]
          },
          "metadata": {},
          "execution_count": 21
        }
      ]
    },
    {
      "cell_type": "code",
      "metadata": {
        "id": "FBLM58LwBnt5",
        "colab": {
          "base_uri": "https://localhost:8080/"
        },
        "outputId": "3130b669-c0a7-4389-96f7-94de9bbf506e"
      },
      "source": [
        "from sklearn.metrics import accuracy_score\n",
        "y_pred2 = classifier2.predict(x_test)\n",
        "accuracy_score(y_test,y_pred2)"
      ],
      "execution_count": 22,
      "outputs": [
        {
          "output_type": "execute_result",
          "data": {
            "text/plain": [
              "0.620845921450151"
            ]
          },
          "metadata": {},
          "execution_count": 22
        }
      ]
    }
  ]
}
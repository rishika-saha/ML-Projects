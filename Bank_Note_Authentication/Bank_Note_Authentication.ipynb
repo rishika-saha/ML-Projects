{
  "nbformat": 4,
  "nbformat_minor": 0,
  "metadata": {
    "colab": {
      "name": "Bank_Note_Authentication.ipynb",
      "provenance": [],
      "collapsed_sections": [
        "s7As-JRAXSVf",
        "GDVbJBZ6XCNi"
      ]
    },
    "kernelspec": {
      "name": "python3",
      "display_name": "Python 3"
    },
    "language_info": {
      "name": "python"
    }
  },
  "cells": [
    {
      "cell_type": "markdown",
      "metadata": {
        "id": "s7As-JRAXSVf"
      },
      "source": [
        "# ***Data Preprocessing***"
      ]
    },
    {
      "cell_type": "markdown",
      "metadata": {
        "id": "xAgKGLyZQYgb"
      },
      "source": [
        "***Import Libraries***"
      ]
    },
    {
      "cell_type": "code",
      "metadata": {
        "id": "c-7UG2bOQmRN"
      },
      "source": [
        "import numpy as np\n",
        "import matplotlib.pyplot as plt\n",
        "import pandas as pd\n",
        "from sklearn.metrics import confusion_matrix, accuracy_score"
      ],
      "execution_count": 7,
      "outputs": []
    },
    {
      "cell_type": "markdown",
      "metadata": {
        "id": "kAf4pBVyQz09"
      },
      "source": [
        "***Import Dataset***"
      ]
    },
    {
      "cell_type": "code",
      "metadata": {
        "id": "Fi8NRh2xRFmK"
      },
      "source": [
        "dataset = pd.read_csv('/content/BankNote_Authentication.csv')\n",
        "x = dataset.iloc[:, :-1].values\n",
        "y = dataset.iloc[:, -1].values"
      ],
      "execution_count": 2,
      "outputs": []
    },
    {
      "cell_type": "markdown",
      "metadata": {
        "id": "LxzwpVm9Riza"
      },
      "source": [
        "***Splitting Dataset Into Train Test Split***"
      ]
    },
    {
      "cell_type": "code",
      "metadata": {
        "id": "HZo9sV9RRx8t"
      },
      "source": [
        "from sklearn.model_selection import train_test_split\n",
        "x_train,x_test,y_train,y_test = train_test_split(x,y,test_size=0.2, random_state= 0)"
      ],
      "execution_count": 3,
      "outputs": []
    },
    {
      "cell_type": "markdown",
      "metadata": {
        "id": "vBkiBDA4SSZ4"
      },
      "source": [
        "***Feature Scaling-*** The range of the features should be normalised so that each feature contibute approximately proprotionately to the final distance"
      ]
    },
    {
      "cell_type": "code",
      "metadata": {
        "id": "KTMt9aiQTFuU"
      },
      "source": [
        "from sklearn.preprocessing import StandardScaler\n",
        "sc = StandardScaler()\n",
        "x_train = sc.fit_transform(x_train)\n",
        "x_test = sc.transform(x_test)"
      ],
      "execution_count": 5,
      "outputs": []
    },
    {
      "cell_type": "markdown",
      "metadata": {
        "id": "GDVbJBZ6XCNi"
      },
      "source": [
        "# ***Models And Accuracy Score***"
      ]
    },
    {
      "cell_type": "markdown",
      "metadata": {
        "id": "B_82R--rXPXV"
      },
      "source": [
        "***Logistic Regression***"
      ]
    },
    {
      "cell_type": "code",
      "metadata": {
        "colab": {
          "base_uri": "https://localhost:8080/"
        },
        "id": "6BichDAzS9Ck",
        "outputId": "164e2fda-b60d-4df2-94d8-b8605decb665"
      },
      "source": [
        "from sklearn.linear_model import LogisticRegression\n",
        "classifier = LogisticRegression(random_state=0)\n",
        "classifier.fit(x_train,y_train)\n",
        "#predicting test results\n",
        "y_pred = classifier.predict(x_test)\n",
        "accuracy_score(y_test,y_pred)\n"
      ],
      "execution_count": 9,
      "outputs": [
        {
          "output_type": "stream",
          "text": [
            "[[154   3]\n",
            " [  0 118]]\n"
          ],
          "name": "stdout"
        },
        {
          "output_type": "execute_result",
          "data": {
            "text/plain": [
              "0.9890909090909091"
            ]
          },
          "metadata": {
            "tags": []
          },
          "execution_count": 9
        }
      ]
    },
    {
      "cell_type": "markdown",
      "metadata": {
        "id": "NC_Q7OX3ct05"
      },
      "source": [
        "***K-Nearest Neighbours***"
      ]
    },
    {
      "cell_type": "code",
      "metadata": {
        "colab": {
          "base_uri": "https://localhost:8080/"
        },
        "id": "hYwgHW8dc1Im",
        "outputId": "12bed1a9-422a-4eb4-b4cc-aeaf6628c66e"
      },
      "source": [
        "from sklearn.neighbors import KNeighborsClassifier\n",
        "knn = KNeighborsClassifier(n_neighbors=5, p=2, metric= 'minkowski')\n",
        "knn.fit(x_train,y_train)\n",
        "#predicting test results\n",
        "y_pred = knn.predict(x_test)\n",
        "accuracy_score(y_test,y_pred)"
      ],
      "execution_count": 12,
      "outputs": [
        {
          "output_type": "execute_result",
          "data": {
            "text/plain": [
              "1.0"
            ]
          },
          "metadata": {
            "tags": []
          },
          "execution_count": 12
        }
      ]
    },
    {
      "cell_type": "markdown",
      "metadata": {
        "id": "_6qEUnmxdsty"
      },
      "source": [
        "***Kernel SVM***"
      ]
    },
    {
      "cell_type": "code",
      "metadata": {
        "colab": {
          "base_uri": "https://localhost:8080/"
        },
        "id": "WQq7ckEWdzgo",
        "outputId": "aac24185-4862-42eb-b9cd-409822323a07"
      },
      "source": [
        "from sklearn.svm import SVC\n",
        "kernel = SVC(kernel='rbf', random_state=0)\n",
        "kernel.fit(x_train,y_train)\n",
        "#predicting test results\n",
        "y_pred = kernel.predict(x_test)\n",
        "accuracy_score(y_test,y_pred)"
      ],
      "execution_count": 13,
      "outputs": [
        {
          "output_type": "execute_result",
          "data": {
            "text/plain": [
              "1.0"
            ]
          },
          "metadata": {
            "tags": []
          },
          "execution_count": 13
        }
      ]
    },
    {
      "cell_type": "markdown",
      "metadata": {
        "id": "sOxdffB2fjP7"
      },
      "source": [
        "***Naive Bayes***"
      ]
    },
    {
      "cell_type": "code",
      "metadata": {
        "colab": {
          "base_uri": "https://localhost:8080/"
        },
        "id": "tLkAbPHkfpFO",
        "outputId": "fd3b6c8a-dfb8-49ee-de08-54ede0516294"
      },
      "source": [
        "from sklearn.naive_bayes import GaussianNB\n",
        "NB = GaussianNB()\n",
        "NB.fit(x_train,y_train)\n",
        "#predicting test results\n",
        "y_pred = NB.predict(x_test)\n",
        "accuracy_score(y_test,y_pred)"
      ],
      "execution_count": 14,
      "outputs": [
        {
          "output_type": "execute_result",
          "data": {
            "text/plain": [
              "0.8327272727272728"
            ]
          },
          "metadata": {
            "tags": []
          },
          "execution_count": 14
        }
      ]
    },
    {
      "cell_type": "markdown",
      "metadata": {
        "id": "Bbo2PHO_iSaC"
      },
      "source": [
        "***Desicion Tree Classifier***"
      ]
    },
    {
      "cell_type": "code",
      "metadata": {
        "colab": {
          "base_uri": "https://localhost:8080/"
        },
        "id": "c3SYEvkTid3g",
        "outputId": "770df755-6404-40d2-90c6-f55560ed9318"
      },
      "source": [
        "from sklearn.tree import DecisionTreeClassifier\n",
        "tree = DecisionTreeClassifier(criterion= 'entropy', random_state=0)\n",
        "tree.fit(x_train,y_train)\n",
        "#predicting test results\n",
        "y_pred = tree.predict(x_test)\n",
        "accuracy_score(y_test,y_pred)"
      ],
      "execution_count": 15,
      "outputs": [
        {
          "output_type": "execute_result",
          "data": {
            "text/plain": [
              "0.9854545454545455"
            ]
          },
          "metadata": {
            "tags": []
          },
          "execution_count": 15
        }
      ]
    },
    {
      "cell_type": "markdown",
      "metadata": {
        "id": "7GimDVv_jlze"
      },
      "source": [
        "***Random Forest Classifier***"
      ]
    },
    {
      "cell_type": "code",
      "metadata": {
        "colab": {
          "base_uri": "https://localhost:8080/"
        },
        "id": "kYqn3dibjrlz",
        "outputId": "bef224b3-13cd-4b2a-c5ee-6004157fc44c"
      },
      "source": [
        "from sklearn.ensemble import RandomForestClassifier\n",
        "forest = RandomForestClassifier(n_estimators= 100,criterion= 'entropy', random_state=0)\n",
        "forest.fit(x_train,y_train)\n",
        "#predicting test results\n",
        "y_pred = forest.predict(x_test)\n",
        "accuracy_score(y_test,y_pred)"
      ],
      "execution_count": 19,
      "outputs": [
        {
          "output_type": "execute_result",
          "data": {
            "text/plain": [
              "0.9890909090909091"
            ]
          },
          "metadata": {
            "tags": []
          },
          "execution_count": 19
        }
      ]
    }
  ]
}